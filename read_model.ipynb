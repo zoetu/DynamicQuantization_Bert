{
 "cells": [
  {
   "cell_type": "markdown",
   "metadata": {},
   "source": [
    "# 本文主要涉及到3个函数：\n",
    "torch.save: 使用Python的pickle实用程序将对象进行序列化，然后将序列化的对象保存到disk，可以保存各种对象,包括模型、张量和字典等。\n",
    "torch.load: 使用pickle unpickle工具将pickle的对象文件反序列化为内存。\n",
    "torch.nn.Module.load_state_dict: 用反序列化的state_dict来加载模型参数。\n",
    "# 参考资料\n",
    "https://blog.csdn.net/wangkaidehao/article/details/104296025"
   ]
  },
  {
   "cell_type": "markdown",
   "metadata": {},
   "source": [
    "# 1. 读取tensor\n",
    "## 1.1 单个张量"
   ]
  },
  {
   "cell_type": "code",
   "execution_count": 1,
   "metadata": {},
   "outputs": [
    {
     "name": "stderr",
     "output_type": "stream",
     "text": [
      "/home/ty6232/miniconda3/envs/pytorch/lib/python3.9/site-packages/tqdm/auto.py:22: TqdmWarning: IProgress not found. Please update jupyter and ipywidgets. See https://ipywidgets.readthedocs.io/en/stable/user_install.html\n",
      "  from .autonotebook import tqdm as notebook_tqdm\n"
     ]
    },
    {
     "name": "stdout",
     "output_type": "stream",
     "text": [
      "tensor([3., 4.])\n"
     ]
    }
   ],
   "source": [
    "import torch\n",
    "\n",
    "# create tensor\n",
    "x = torch.tensor([3.,4.])\n",
    "# save model as file  \n",
    "torch.save(x, 'x.pt')\n",
    "\n",
    "# load file\n",
    "x1 = torch.load('x.pt')\n",
    "print(x1)"
   ]
  },
  {
   "cell_type": "markdown",
   "metadata": {},
   "source": [
    "## 1.2 张量列表和张量词典"
   ]
  },
  {
   "cell_type": "code",
   "execution_count": 2,
   "metadata": {},
   "outputs": [
    {
     "name": "stdout",
     "output_type": "stream",
     "text": [
      "[tensor([3., 4.]), tensor([[1., 1.],\n",
      "        [1., 1.],\n",
      "        [1., 1.],\n",
      "        [1., 1.]])]\n",
      "{'x': tensor([3., 4.]), 'y': tensor([[1., 1.],\n",
      "        [1., 1.],\n",
      "        [1., 1.],\n",
      "        [1., 1.]])}\n"
     ]
    }
   ],
   "source": [
    "# 创建一个tensor列表 4列2行\n",
    "y = torch.ones((4,2))\n",
    "# save load xy两个参数\n",
    "torch.save([x,y],'xy.pt')\n",
    "# 添加参数描述 构成tensor词典\n",
    "torch.save({'x':x, 'y':y}, 'xy_dict.pt')\n",
    "xy = torch.load('xy.pt')\n",
    "xy_dict = torch.load('xy_dict.pt')\n",
    "print(xy)\n",
    "print(xy_dict)"
   ]
  },
  {
   "cell_type": "markdown",
   "metadata": {},
   "source": [
    "# 2 保存和加载模型\n",
    "## 2.1 state_dict\n",
    "state_dict是一个从每一个层的名称映射到这个层的参数Tesnor的字典对象。\n",
    "\n",
    "注意，只有具有可学习参数的层(卷积层、线性层等)和注册缓存(batchnorm’s running_mean)才有state_dict中的条目。优化器(torch.optim)也有一个state_dict，其中包含关于优化器状态以及所使用的超参数的信息。"
   ]
  },
  {
   "cell_type": "code",
   "execution_count": 3,
   "metadata": {},
   "outputs": [
    {
     "name": "stdout",
     "output_type": "stream",
     "text": [
      "OrderedDict([('hidden.weight', tensor([[ 0.0562, -0.1416,  0.1328],\n",
      "        [ 0.2583, -0.0406,  0.2048]])), ('hidden.bias', tensor([0.1066, 0.3095])), ('output.weight', tensor([[0.0007, 0.4009]])), ('output.bias', tensor([-0.6252]))])\n",
      "\n",
      " tensor([[0.0007, 0.4009]])\n",
      "{'state': {}, 'param_groups': [{'lr': 0.001, 'momentum': 0.9, 'dampening': 0, 'weight_decay': 0, 'nesterov': False, 'params': [0, 1, 2, 3]}]}\n"
     ]
    }
   ],
   "source": [
    "from torch import nn\n",
    "class MLP(nn.Module):\n",
    "    def __init__(self):\n",
    "        super(MLP, self).__init__()\n",
    "        # 创建hidden参数\n",
    "        self.hidden = nn.Linear(3, 2) \n",
    "        # Relu激活参数\n",
    "        self.act = nn.ReLU()\n",
    "        # 输出层\n",
    "        self.output = nn.Linear(2, 1)\n",
    "\n",
    "    def forward(self, x):\n",
    "        a = self.act(self.hidden(x))\n",
    "        return self.output(a)\n",
    "\n",
    "net = MLP()\n",
    "# 输出可学习的参数 hiden.weight hidden.biad output.weight output.bias\n",
    "print(net.state_dict()) \n",
    "print('\\n',net.state_dict()['output.weight'])\n",
    "\n",
    "# 优化器，SDG随机下降梯度\n",
    "optimizer = torch.optim.SGD(net.parameters(), lr=0.001, momentum=0.9)\n",
    "print(optimizer.state_dict())"
   ]
  },
  {
   "cell_type": "markdown",
   "metadata": {},
   "source": [
    "## 2.2 保存和加载\n",
    "PyTorch中保存和加载训练模型有两种常见的方法:\n",
    "\n",
    "仅保存和加载模型参数(state_dict)；\n",
    "保存和加载整个模型。"
   ]
  },
  {
   "cell_type": "markdown",
   "metadata": {},
   "source": [
    "### 2.2.1 保存和加载state_dict(推荐方式)"
   ]
  },
  {
   "cell_type": "code",
   "execution_count": 4,
   "metadata": {},
   "outputs": [
    {
     "data": {
      "text/plain": [
       "<All keys matched successfully>"
      ]
     },
     "execution_count": 4,
     "metadata": {},
     "output_type": "execute_result"
    }
   ],
   "source": [
    "# 模型序列化存储\n",
    "torch.save(net.state_dict(), 'net_state_dict.pt')## 后缀名一般写为: .pt或.pth\n",
    "net1 = MLP()\n",
    "\n",
    "# load反序列化\n",
    "net1.load_state_dict(torch.load('net_state_dict.pt'))"
   ]
  },
  {
   "cell_type": "markdown",
   "metadata": {},
   "source": [
    "load_state_dict() 接受一个词典对象，而不是一个指向对象的路径。"
   ]
  },
  {
   "cell_type": "markdown",
   "metadata": {},
   "source": [
    "## 2.2.2 保存和读写整个模型"
   ]
  },
  {
   "cell_type": "code",
   "execution_count": null,
   "metadata": {},
   "outputs": [],
   "source": [
    "torch.save(net, 'net.pt')\n",
    "net2 = torch.load('net.pt')"
   ]
  }
 ],
 "metadata": {
  "kernelspec": {
   "display_name": "Python 3.9.12 ('pytorch')",
   "language": "python",
   "name": "python3"
  },
  "language_info": {
   "codemirror_mode": {
    "name": "ipython",
    "version": 3
   },
   "file_extension": ".py",
   "mimetype": "text/x-python",
   "name": "python",
   "nbconvert_exporter": "python",
   "pygments_lexer": "ipython3",
   "version": "3.9.12"
  },
  "orig_nbformat": 4,
  "vscode": {
   "interpreter": {
    "hash": "c79665180cf23689f369836966134b6ea5a386e92548a4268183fa96498ffb6c"
   }
  }
 },
 "nbformat": 4,
 "nbformat_minor": 2
}
